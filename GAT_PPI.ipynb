{
 "cells": [
  {
   "cell_type": "code",
   "execution_count": 4,
   "id": "8192cfc1-6624-4a4f-aeaf-d43a223b4e15",
   "metadata": {
    "tags": []
   },
   "outputs": [
    {
     "name": "stdout",
     "output_type": "stream",
     "text": [
      "Collecting torch-geometric\n",
      "  Downloading torch_geometric-2.4.0-py3-none-any.whl.metadata (63 kB)\n",
      "\u001b[2K     \u001b[90m━━━━━━━━━━━━━━━━━━━━━━━━━━━━━━━━━━━━━━━━\u001b[0m \u001b[32m63.9/63.9 kB\u001b[0m \u001b[31m4.3 MB/s\u001b[0m eta \u001b[36m0:00:00\u001b[0m\n",
      "\u001b[?25hRequirement already satisfied: tqdm in /home/ec2-user/anaconda3/envs/pytorch_p310/lib/python3.10/site-packages (from torch-geometric) (4.66.1)\n",
      "Requirement already satisfied: numpy in /home/ec2-user/anaconda3/envs/pytorch_p310/lib/python3.10/site-packages (from torch-geometric) (1.26.1)\n",
      "Requirement already satisfied: scipy in /home/ec2-user/anaconda3/envs/pytorch_p310/lib/python3.10/site-packages (from torch-geometric) (1.11.3)\n",
      "Requirement already satisfied: jinja2 in /home/ec2-user/anaconda3/envs/pytorch_p310/lib/python3.10/site-packages (from torch-geometric) (3.1.2)\n",
      "Requirement already satisfied: requests in /home/ec2-user/anaconda3/envs/pytorch_p310/lib/python3.10/site-packages (from torch-geometric) (2.31.0)\n",
      "Requirement already satisfied: pyparsing in /home/ec2-user/anaconda3/envs/pytorch_p310/lib/python3.10/site-packages (from torch-geometric) (3.1.1)\n",
      "Requirement already satisfied: scikit-learn in /home/ec2-user/anaconda3/envs/pytorch_p310/lib/python3.10/site-packages (from torch-geometric) (1.3.2)\n",
      "Requirement already satisfied: psutil>=5.8.0 in /home/ec2-user/anaconda3/envs/pytorch_p310/lib/python3.10/site-packages (from torch-geometric) (5.9.5)\n",
      "Requirement already satisfied: MarkupSafe>=2.0 in /home/ec2-user/anaconda3/envs/pytorch_p310/lib/python3.10/site-packages (from jinja2->torch-geometric) (2.1.3)\n",
      "Requirement already satisfied: charset-normalizer<4,>=2 in /home/ec2-user/anaconda3/envs/pytorch_p310/lib/python3.10/site-packages (from requests->torch-geometric) (3.3.1)\n",
      "Requirement already satisfied: idna<4,>=2.5 in /home/ec2-user/anaconda3/envs/pytorch_p310/lib/python3.10/site-packages (from requests->torch-geometric) (3.4)\n",
      "Requirement already satisfied: urllib3<3,>=1.21.1 in /home/ec2-user/anaconda3/envs/pytorch_p310/lib/python3.10/site-packages (from requests->torch-geometric) (1.26.18)\n",
      "Requirement already satisfied: certifi>=2017.4.17 in /home/ec2-user/anaconda3/envs/pytorch_p310/lib/python3.10/site-packages (from requests->torch-geometric) (2023.7.22)\n",
      "Requirement already satisfied: joblib>=1.1.1 in /home/ec2-user/anaconda3/envs/pytorch_p310/lib/python3.10/site-packages (from scikit-learn->torch-geometric) (1.3.2)\n",
      "Requirement already satisfied: threadpoolctl>=2.0.0 in /home/ec2-user/anaconda3/envs/pytorch_p310/lib/python3.10/site-packages (from scikit-learn->torch-geometric) (3.2.0)\n",
      "Downloading torch_geometric-2.4.0-py3-none-any.whl (1.0 MB)\n",
      "\u001b[2K   \u001b[90m━━━━━━━━━━━━━━━━━━━━━━━━━━━━━━━━━━━━━━━━\u001b[0m \u001b[32m1.0/1.0 MB\u001b[0m \u001b[31m26.0 MB/s\u001b[0m eta \u001b[36m0:00:00\u001b[0m00:01\u001b[0m\n",
      "\u001b[?25hInstalling collected packages: torch-geometric\n",
      "Successfully installed torch-geometric-2.4.0\n"
     ]
    }
   ],
   "source": [
    "!pip install torch-geometric\n"
   ]
  },
  {
   "cell_type": "code",
   "execution_count": 5,
   "id": "be2e0f38-6c12-4fe3-88bb-bb83b9ee9887",
   "metadata": {
    "tags": []
   },
   "outputs": [],
   "source": [
    "import os.path as osp\n",
    "import time\n",
    "\n",
    "import torch\n",
    "import torch.nn.functional as F\n",
    "from sklearn.metrics import f1_score"
   ]
  },
  {
   "cell_type": "code",
   "execution_count": 6,
   "id": "5e590841-86c4-4f50-bb0e-4016d690e845",
   "metadata": {
    "tags": []
   },
   "outputs": [],
   "source": [
    "from torch_geometric.datasets import PPI\n",
    "from torch_geometric.loader import DataLoader\n",
    "\n",
    "\n",
    "from torch_geometric.nn import GATConv\n",
    "\n"
   ]
  },
  {
   "cell_type": "code",
   "execution_count": 12,
   "id": "0063e0bb-8742-4e85-9069-4dd41a38b459",
   "metadata": {
    "tags": []
   },
   "outputs": [
    {
     "name": "stderr",
     "output_type": "stream",
     "text": [
      "Downloading https://data.dgl.ai/dataset/ppi.zip\n",
      "Extracting ppi_data/ppi.zip\n",
      "Processing...\n",
      "Done!\n"
     ]
    }
   ],
   "source": [
    "ppi_dataset = PPI(root='./ppi_data/')"
   ]
  },
  {
   "cell_type": "code",
   "execution_count": 13,
   "id": "bc368241-64e3-4369-9e94-4ac1a27a5430",
   "metadata": {
    "tags": []
   },
   "outputs": [],
   "source": [
    "path = './ppi_data/'"
   ]
  },
  {
   "cell_type": "code",
   "execution_count": 14,
   "id": "efed55c9-bc53-4b56-8ab0-d172c9852de8",
   "metadata": {
    "tags": []
   },
   "outputs": [],
   "source": [
    "train_dataset = PPI(path, split='train')\n",
    "val_dataset = PPI(path, split='val')\n",
    "test_dataset = PPI(path, split='test')\n",
    "train_loader = DataLoader(train_dataset, batch_size=1, shuffle=True)\n",
    "val_loader = DataLoader(val_dataset, batch_size=2, shuffle=False)\n",
    "test_loader = DataLoader(test_dataset, batch_size=2, shuffle=False)"
   ]
  },
  {
   "cell_type": "code",
   "execution_count": 30,
   "id": "e0e3efcd-c5f2-4033-a235-e80940bad05d",
   "metadata": {
    "tags": []
   },
   "outputs": [
    {
     "data": {
      "text/plain": [
       "121"
      ]
     },
     "execution_count": 30,
     "metadata": {},
     "output_type": "execute_result"
    }
   ],
   "source": [
    "train_dataset.num_classes"
   ]
  },
  {
   "cell_type": "code",
   "execution_count": 23,
   "id": "8b31cdb1-21ea-44b4-a7b2-35d5fa3747ce",
   "metadata": {
    "tags": []
   },
   "outputs": [
    {
     "name": "stdout",
     "output_type": "stream",
     "text": [
      "PPI (#graphs=20):\n",
      "+------------+----------+----------+\n",
      "|            |   #nodes |   #edges |\n",
      "|------------+----------+----------|\n",
      "| mean       |   2245.3 |  61318.4 |\n",
      "| std        |    766.2 |  28601.2 |\n",
      "| min        |    591   |   7708   |\n",
      "| quantile25 |   1806   |  42288   |\n",
      "| median     |   2326   |  59862   |\n",
      "| quantile75 |   2799.2 |  85368.5 |\n",
      "| max        |   3480   | 106754   |\n",
      "+------------+----------+----------+\n"
     ]
    }
   ],
   "source": [
    "train_dataset.print_summary()"
   ]
  },
  {
   "cell_type": "code",
   "execution_count": 15,
   "id": "7721670f-7bc6-4786-94dd-bda8ba41e3ab",
   "metadata": {
    "tags": []
   },
   "outputs": [],
   "source": [
    "class GATPPI(torch.nn.Module):\n",
    "    def __init__(self):\n",
    "        super().__init__()\n",
    "        self.conv1 = GATConv(train_dataset.num_features, 256, heads=4)\n",
    "        self.lin1 = torch.nn.Linear(train_dataset.num_features, 4 * 256)\n",
    "        self.conv2 = GATConv(4 * 256, 256, heads=4)\n",
    "        self.lin2 = torch.nn.Linear(4 * 256, 4 * 256)\n",
    "        self.conv3 = GATConv(4 * 256, train_dataset.num_classes, heads=6,\n",
    "                             concat=False)\n",
    "        self.lin3 = torch.nn.Linear(4 * 256, train_dataset.num_classes)\n",
    "\n",
    "    def forward(self, x, edge_index):\n",
    "        x = F.elu(self.conv1(x, edge_index) + self.lin1(x))\n",
    "        x = F.elu(self.conv2(x, edge_index) + self.lin2(x))\n",
    "        x = self.conv3(x, edge_index) + self.lin3(x)\n",
    "        return x"
   ]
  },
  {
   "cell_type": "code",
   "execution_count": 16,
   "id": "fa3cfd3c-806d-4fe7-8373-8a942979d63f",
   "metadata": {
    "tags": []
   },
   "outputs": [],
   "source": [
    "device = torch.device('cuda' if torch.cuda.is_available() else 'cpu')\n",
    "model = Net().to(device)\n",
    "loss_op = torch.nn.BCEWithLogitsLoss()\n",
    "optimizer = torch.optim.Adam(model.parameters(), lr=0.005)"
   ]
  },
  {
   "cell_type": "code",
   "execution_count": 17,
   "id": "ba2d94eb-881e-4961-9b8b-51ebaa1e5ba3",
   "metadata": {
    "tags": []
   },
   "outputs": [],
   "source": [
    "def train():\n",
    "    model.train()\n",
    "\n",
    "    total_loss = 0\n",
    "    for data in train_loader:\n",
    "        data = data.to(device)\n",
    "        optimizer.zero_grad()\n",
    "        loss = loss_op(model(data.x, data.edge_index), data.y)\n",
    "        total_loss += loss.item() * data.num_graphs\n",
    "        loss.backward()\n",
    "        optimizer.step()\n",
    "    return total_loss / len(train_loader.dataset)"
   ]
  },
  {
   "cell_type": "code",
   "execution_count": 18,
   "id": "5c9d7cfe-8fd5-49be-bc35-d31de3939934",
   "metadata": {
    "tags": []
   },
   "outputs": [],
   "source": [
    "@torch.no_grad()\n",
    "def test(loader):\n",
    "    model.eval()\n",
    "\n",
    "    ys, preds = [], []\n",
    "    for data in loader:\n",
    "        ys.append(data.y)\n",
    "        out = model(data.x.to(device), data.edge_index.to(device))\n",
    "        preds.append((out > 0).float().cpu())\n",
    "\n",
    "    y, pred = torch.cat(ys, dim=0).numpy(), torch.cat(preds, dim=0).numpy()\n",
    "    return f1_score(y, pred, average='micro') if pred.sum() > 0 else 0"
   ]
  },
  {
   "cell_type": "code",
   "execution_count": 31,
   "id": "8a50233a-7819-4b27-bd71-9894b43ca5ba",
   "metadata": {
    "tags": []
   },
   "outputs": [
    {
     "data": {
      "text/plain": [
       "0.9868027882209436"
      ]
     },
     "execution_count": 31,
     "metadata": {},
     "output_type": "execute_result"
    }
   ],
   "source": [
    "test(test_loader)"
   ]
  },
  {
   "cell_type": "code",
   "execution_count": 19,
   "id": "3760220b-9d32-4eb7-a639-e5474759c8da",
   "metadata": {
    "tags": []
   },
   "outputs": [
    {
     "name": "stdout",
     "output_type": "stream",
     "text": [
      "Epoch: 001, Loss: 0.9247, Val: 0.4610, Test: 0.4633\n",
      "Epoch: 002, Loss: 0.5474, Val: 0.5345, Test: 0.5381\n",
      "Epoch: 003, Loss: 0.4962, Val: 0.5220, Test: 0.5287\n",
      "Epoch: 004, Loss: 0.4622, Val: 0.5424, Test: 0.5546\n",
      "Epoch: 005, Loss: 0.4251, Val: 0.6322, Test: 0.6493\n",
      "Epoch: 006, Loss: 0.3791, Val: 0.6952, Test: 0.7173\n",
      "Epoch: 007, Loss: 0.3334, Val: 0.7331, Test: 0.7581\n",
      "Epoch: 008, Loss: 0.2880, Val: 0.7814, Test: 0.8069\n",
      "Epoch: 009, Loss: 0.2507, Val: 0.8136, Test: 0.8404\n",
      "Epoch: 010, Loss: 0.2139, Val: 0.8403, Test: 0.8669\n",
      "Epoch: 011, Loss: 0.1799, Val: 0.8482, Test: 0.8752\n",
      "Epoch: 012, Loss: 0.1541, Val: 0.8779, Test: 0.9038\n",
      "Epoch: 013, Loss: 0.1294, Val: 0.8891, Test: 0.9137\n",
      "Epoch: 014, Loss: 0.1173, Val: 0.9017, Test: 0.9246\n",
      "Epoch: 015, Loss: 0.1010, Val: 0.9189, Test: 0.9400\n",
      "Epoch: 016, Loss: 0.0841, Val: 0.9304, Test: 0.9501\n",
      "Epoch: 017, Loss: 0.0725, Val: 0.9313, Test: 0.9507\n",
      "Epoch: 018, Loss: 0.0671, Val: 0.9381, Test: 0.9557\n",
      "Epoch: 019, Loss: 0.0584, Val: 0.9378, Test: 0.9550\n",
      "Epoch: 020, Loss: 0.0570, Val: 0.9391, Test: 0.9556\n",
      "Epoch: 021, Loss: 0.0556, Val: 0.9427, Test: 0.9593\n",
      "Epoch: 022, Loss: 0.0470, Val: 0.9482, Test: 0.9642\n",
      "Epoch: 023, Loss: 0.0404, Val: 0.9560, Test: 0.9701\n",
      "Epoch: 024, Loss: 0.0371, Val: 0.9532, Test: 0.9674\n",
      "Epoch: 025, Loss: 0.0384, Val: 0.9605, Test: 0.9739\n",
      "Epoch: 026, Loss: 0.0316, Val: 0.9605, Test: 0.9728\n",
      "Epoch: 027, Loss: 0.0296, Val: 0.9631, Test: 0.9749\n",
      "Epoch: 028, Loss: 0.0269, Val: 0.9646, Test: 0.9765\n",
      "Epoch: 029, Loss: 0.0231, Val: 0.9627, Test: 0.9740\n",
      "Epoch: 030, Loss: 0.0228, Val: 0.9663, Test: 0.9773\n",
      "Epoch: 031, Loss: 0.0213, Val: 0.9678, Test: 0.9787\n",
      "Epoch: 032, Loss: 0.0199, Val: 0.9697, Test: 0.9798\n",
      "Epoch: 033, Loss: 0.0181, Val: 0.9708, Test: 0.9807\n",
      "Epoch: 034, Loss: 0.0166, Val: 0.9700, Test: 0.9798\n",
      "Epoch: 035, Loss: 0.0151, Val: 0.9717, Test: 0.9813\n",
      "Epoch: 036, Loss: 0.0154, Val: 0.9708, Test: 0.9807\n",
      "Epoch: 037, Loss: 0.0157, Val: 0.9706, Test: 0.9796\n",
      "Epoch: 038, Loss: 0.0154, Val: 0.9723, Test: 0.9810\n",
      "Epoch: 039, Loss: 0.0150, Val: 0.9706, Test: 0.9797\n",
      "Epoch: 040, Loss: 0.0153, Val: 0.9718, Test: 0.9811\n",
      "Epoch: 041, Loss: 0.0152, Val: 0.9721, Test: 0.9815\n",
      "Epoch: 042, Loss: 0.0150, Val: 0.9720, Test: 0.9814\n",
      "Epoch: 043, Loss: 0.0137, Val: 0.9724, Test: 0.9819\n",
      "Epoch: 044, Loss: 0.0139, Val: 0.9711, Test: 0.9808\n",
      "Epoch: 045, Loss: 0.0159, Val: 0.9676, Test: 0.9777\n",
      "Epoch: 046, Loss: 0.0375, Val: 0.9330, Test: 0.9461\n",
      "Epoch: 047, Loss: 0.0796, Val: 0.9337, Test: 0.9484\n",
      "Epoch: 048, Loss: 0.0518, Val: 0.9541, Test: 0.9673\n",
      "Epoch: 049, Loss: 0.0411, Val: 0.9558, Test: 0.9688\n",
      "Epoch: 050, Loss: 0.0248, Val: 0.9683, Test: 0.9789\n",
      "Epoch: 051, Loss: 0.0186, Val: 0.9729, Test: 0.9822\n",
      "Epoch: 052, Loss: 0.0135, Val: 0.9737, Test: 0.9830\n",
      "Epoch: 053, Loss: 0.0111, Val: 0.9762, Test: 0.9847\n",
      "Epoch: 054, Loss: 0.0108, Val: 0.9757, Test: 0.9838\n",
      "Epoch: 055, Loss: 0.0105, Val: 0.9764, Test: 0.9851\n",
      "Epoch: 056, Loss: 0.0089, Val: 0.9772, Test: 0.9856\n",
      "Epoch: 057, Loss: 0.0084, Val: 0.9775, Test: 0.9855\n",
      "Epoch: 058, Loss: 0.0101, Val: 0.9778, Test: 0.9862\n",
      "Epoch: 059, Loss: 0.0080, Val: 0.9775, Test: 0.9858\n",
      "Epoch: 060, Loss: 0.0077, Val: 0.9787, Test: 0.9863\n",
      "Epoch: 061, Loss: 0.0070, Val: 0.9783, Test: 0.9863\n",
      "Epoch: 062, Loss: 0.0080, Val: 0.9781, Test: 0.9861\n",
      "Epoch: 063, Loss: 0.0075, Val: 0.9788, Test: 0.9862\n",
      "Epoch: 064, Loss: 0.0073, Val: 0.9784, Test: 0.9860\n",
      "Epoch: 065, Loss: 0.0073, Val: 0.9791, Test: 0.9866\n",
      "Epoch: 066, Loss: 0.0074, Val: 0.9791, Test: 0.9868\n",
      "Epoch: 067, Loss: 0.0067, Val: 0.9786, Test: 0.9866\n",
      "Epoch: 068, Loss: 0.0063, Val: 0.9784, Test: 0.9860\n",
      "Epoch: 069, Loss: 0.0072, Val: 0.9780, Test: 0.9857\n",
      "Epoch: 070, Loss: 0.0079, Val: 0.9781, Test: 0.9861\n",
      "Epoch: 071, Loss: 0.0065, Val: 0.9794, Test: 0.9868\n",
      "Epoch: 072, Loss: 0.0062, Val: 0.9788, Test: 0.9863\n",
      "Epoch: 073, Loss: 0.0069, Val: 0.9786, Test: 0.9863\n",
      "Epoch: 074, Loss: 0.0065, Val: 0.9786, Test: 0.9860\n",
      "Epoch: 075, Loss: 0.0061, Val: 0.9790, Test: 0.9865\n",
      "Epoch: 076, Loss: 0.0056, Val: 0.9795, Test: 0.9870\n",
      "Epoch: 077, Loss: 0.0054, Val: 0.9798, Test: 0.9868\n",
      "Epoch: 078, Loss: 0.0059, Val: 0.9792, Test: 0.9869\n",
      "Epoch: 079, Loss: 0.0060, Val: 0.9800, Test: 0.9874\n",
      "Epoch: 080, Loss: 0.0059, Val: 0.9795, Test: 0.9869\n",
      "Epoch: 081, Loss: 0.0055, Val: 0.9791, Test: 0.9868\n",
      "Epoch: 082, Loss: 0.0056, Val: 0.9796, Test: 0.9868\n",
      "Epoch: 083, Loss: 0.0057, Val: 0.9794, Test: 0.9868\n",
      "Epoch: 084, Loss: 0.0051, Val: 0.9797, Test: 0.9870\n",
      "Epoch: 085, Loss: 0.0054, Val: 0.9796, Test: 0.9871\n",
      "Epoch: 086, Loss: 0.0059, Val: 0.9796, Test: 0.9867\n",
      "Epoch: 087, Loss: 0.0056, Val: 0.9800, Test: 0.9874\n",
      "Epoch: 088, Loss: 0.0056, Val: 0.9794, Test: 0.9868\n",
      "Epoch: 089, Loss: 0.0060, Val: 0.9791, Test: 0.9865\n",
      "Epoch: 090, Loss: 0.0055, Val: 0.9798, Test: 0.9871\n",
      "Epoch: 091, Loss: 0.0057, Val: 0.9792, Test: 0.9863\n",
      "Epoch: 092, Loss: 0.0062, Val: 0.9790, Test: 0.9863\n",
      "Epoch: 093, Loss: 0.0069, Val: 0.9780, Test: 0.9853\n",
      "Epoch: 094, Loss: 0.0067, Val: 0.9783, Test: 0.9855\n",
      "Epoch: 095, Loss: 0.0074, Val: 0.9779, Test: 0.9855\n",
      "Epoch: 096, Loss: 0.0076, Val: 0.9781, Test: 0.9855\n",
      "Epoch: 097, Loss: 0.0067, Val: 0.9792, Test: 0.9865\n",
      "Epoch: 098, Loss: 0.0069, Val: 0.9789, Test: 0.9861\n",
      "Epoch: 099, Loss: 0.0074, Val: 0.9782, Test: 0.9860\n",
      "Epoch: 100, Loss: 0.0072, Val: 0.9795, Test: 0.9868\n",
      "Median time per epoch: 0.8832s\n"
     ]
    }
   ],
   "source": [
    "times = []\n",
    "for epoch in range(1, 101):\n",
    "    start = time.time()\n",
    "    loss = train()\n",
    "    val_f1 = test(val_loader)\n",
    "    test_f1 = test(test_loader)\n",
    "    print(f'Epoch: {epoch:03d}, Loss: {loss:.4f}, Val: {val_f1:.4f}, '\n",
    "          f'Test: {test_f1:.4f}')\n",
    "    times.append(time.time() - start)\n",
    "print(f\"Median time per epoch: {torch.tensor(times).median():.4f}s\")"
   ]
  },
  {
   "cell_type": "code",
   "execution_count": null,
   "id": "5359c311-88a3-4e67-a490-b3bf21a3e4d5",
   "metadata": {},
   "outputs": [],
   "source": []
  }
 ],
 "metadata": {
  "kernelspec": {
   "display_name": "conda_pytorch_p310",
   "language": "python",
   "name": "conda_pytorch_p310"
  },
  "language_info": {
   "codemirror_mode": {
    "name": "ipython",
    "version": 3
   },
   "file_extension": ".py",
   "mimetype": "text/x-python",
   "name": "python",
   "nbconvert_exporter": "python",
   "pygments_lexer": "ipython3",
   "version": "3.10.13"
  }
 },
 "nbformat": 4,
 "nbformat_minor": 5
}

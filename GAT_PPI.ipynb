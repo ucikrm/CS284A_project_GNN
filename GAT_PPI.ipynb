{
 "cells": [
  {
   "cell_type": "code",
   "execution_count": 1,
   "id": "8192cfc1-6624-4a4f-aeaf-d43a223b4e15",
   "metadata": {
    "tags": []
   },
   "outputs": [
    {
     "name": "stdout",
     "output_type": "stream",
     "text": [
      "Collecting torch-geometric\n",
      "  Downloading torch_geometric-2.4.0-py3-none-any.whl.metadata (63 kB)\n",
      "\u001b[2K     \u001b[90m━━━━━━━━━━━━━━━━━━━━━━━━━━━━━━━━━━━━━━━━\u001b[0m \u001b[32m63.9/63.9 kB\u001b[0m \u001b[31m3.9 MB/s\u001b[0m eta \u001b[36m0:00:00\u001b[0m\n",
      "\u001b[?25hRequirement already satisfied: tqdm in /home/ec2-user/anaconda3/envs/pytorch_p310/lib/python3.10/site-packages (from torch-geometric) (4.66.1)\n",
      "Requirement already satisfied: numpy in /home/ec2-user/anaconda3/envs/pytorch_p310/lib/python3.10/site-packages (from torch-geometric) (1.26.1)\n",
      "Requirement already satisfied: scipy in /home/ec2-user/anaconda3/envs/pytorch_p310/lib/python3.10/site-packages (from torch-geometric) (1.11.3)\n",
      "Requirement already satisfied: jinja2 in /home/ec2-user/anaconda3/envs/pytorch_p310/lib/python3.10/site-packages (from torch-geometric) (3.1.2)\n",
      "Requirement already satisfied: requests in /home/ec2-user/anaconda3/envs/pytorch_p310/lib/python3.10/site-packages (from torch-geometric) (2.31.0)\n",
      "Requirement already satisfied: pyparsing in /home/ec2-user/anaconda3/envs/pytorch_p310/lib/python3.10/site-packages (from torch-geometric) (3.1.1)\n",
      "Requirement already satisfied: scikit-learn in /home/ec2-user/anaconda3/envs/pytorch_p310/lib/python3.10/site-packages (from torch-geometric) (1.3.2)\n",
      "Requirement already satisfied: psutil>=5.8.0 in /home/ec2-user/anaconda3/envs/pytorch_p310/lib/python3.10/site-packages (from torch-geometric) (5.9.5)\n",
      "Requirement already satisfied: MarkupSafe>=2.0 in /home/ec2-user/anaconda3/envs/pytorch_p310/lib/python3.10/site-packages (from jinja2->torch-geometric) (2.1.3)\n",
      "Requirement already satisfied: charset-normalizer<4,>=2 in /home/ec2-user/anaconda3/envs/pytorch_p310/lib/python3.10/site-packages (from requests->torch-geometric) (3.3.1)\n",
      "Requirement already satisfied: idna<4,>=2.5 in /home/ec2-user/anaconda3/envs/pytorch_p310/lib/python3.10/site-packages (from requests->torch-geometric) (3.4)\n",
      "Requirement already satisfied: urllib3<3,>=1.21.1 in /home/ec2-user/anaconda3/envs/pytorch_p310/lib/python3.10/site-packages (from requests->torch-geometric) (1.26.18)\n",
      "Requirement already satisfied: certifi>=2017.4.17 in /home/ec2-user/anaconda3/envs/pytorch_p310/lib/python3.10/site-packages (from requests->torch-geometric) (2023.7.22)\n",
      "Requirement already satisfied: joblib>=1.1.1 in /home/ec2-user/anaconda3/envs/pytorch_p310/lib/python3.10/site-packages (from scikit-learn->torch-geometric) (1.3.2)\n",
      "Requirement already satisfied: threadpoolctl>=2.0.0 in /home/ec2-user/anaconda3/envs/pytorch_p310/lib/python3.10/site-packages (from scikit-learn->torch-geometric) (3.2.0)\n",
      "Downloading torch_geometric-2.4.0-py3-none-any.whl (1.0 MB)\n",
      "\u001b[2K   \u001b[90m━━━━━━━━━━━━━━━━━━━━━━━━━━━━━━━━━━━━━━━━\u001b[0m \u001b[32m1.0/1.0 MB\u001b[0m \u001b[31m7.9 MB/s\u001b[0m eta \u001b[36m0:00:00\u001b[0m:00:01\u001b[0m00:01\u001b[0m\n",
      "\u001b[?25hInstalling collected packages: torch-geometric\n",
      "Successfully installed torch-geometric-2.4.0\n"
     ]
    }
   ],
   "source": [
    "!pip install torch-geometric"
   ]
  },
  {
   "cell_type": "code",
   "execution_count": 1,
   "id": "be2e0f38-6c12-4fe3-88bb-bb83b9ee9887",
   "metadata": {
    "tags": []
   },
   "outputs": [],
   "source": [
    "import os.path as osp\n",
    "import time\n",
    "\n",
    "import torch\n",
    "import torch.nn.functional as F\n",
    "from sklearn.metrics import f1_score"
   ]
  },
  {
   "cell_type": "code",
   "execution_count": 2,
   "id": "5e590841-86c4-4f50-bb0e-4016d690e845",
   "metadata": {
    "tags": []
   },
   "outputs": [],
   "source": [
    "from torch_geometric.datasets import PPI\n",
    "from torch_geometric.loader import DataLoader\n",
    "\n",
    "\n",
    "from torch_geometric.nn import GATConv\n",
    "\n"
   ]
  },
  {
   "cell_type": "code",
   "execution_count": 7,
   "id": "0063e0bb-8742-4e85-9069-4dd41a38b459",
   "metadata": {
    "tags": []
   },
   "outputs": [],
   "source": [
    "#ppi_dataset = PPI(root='./ppi_data/')"
   ]
  },
  {
   "cell_type": "code",
   "execution_count": 8,
   "id": "741c8e96-5f5f-4c8f-8d35-ad41bc21d86d",
   "metadata": {
    "tags": []
   },
   "outputs": [],
   "source": [
    "ppi_dataset = PPI(root='./ppi_data/')"
   ]
  },
  {
   "cell_type": "code",
   "execution_count": 9,
   "id": "bc368241-64e3-4369-9e94-4ac1a27a5430",
   "metadata": {
    "tags": []
   },
   "outputs": [],
   "source": [
    "path = './ppi_data/'"
   ]
  },
  {
   "cell_type": "code",
   "execution_count": 10,
   "id": "efed55c9-bc53-4b56-8ab0-d172c9852de8",
   "metadata": {
    "tags": []
   },
   "outputs": [],
   "source": [
    "train_dataset = PPI(path, split='train')\n",
    "val_dataset = PPI(path, split='val')\n",
    "test_dataset = PPI(path, split='test')\n",
    "train_loader = DataLoader(train_dataset, batch_size=1, shuffle=True)\n",
    "val_loader = DataLoader(val_dataset, batch_size=2, shuffle=False)\n",
    "test_loader = DataLoader(test_dataset, batch_size=2, shuffle=False)"
   ]
  },
  {
   "cell_type": "code",
   "execution_count": 11,
   "id": "e0e3efcd-c5f2-4033-a235-e80940bad05d",
   "metadata": {
    "tags": []
   },
   "outputs": [
    {
     "data": {
      "text/plain": [
       "121"
      ]
     },
     "execution_count": 11,
     "metadata": {},
     "output_type": "execute_result"
    }
   ],
   "source": [
    "train_dataset.num_classes"
   ]
  },
  {
   "cell_type": "code",
   "execution_count": 12,
   "id": "8b31cdb1-21ea-44b4-a7b2-35d5fa3747ce",
   "metadata": {
    "tags": []
   },
   "outputs": [
    {
     "name": "stdout",
     "output_type": "stream",
     "text": [
      "PPI (#graphs=20):\n",
      "+------------+----------+----------+\n",
      "|            |   #nodes |   #edges |\n",
      "|------------+----------+----------|\n",
      "| mean       |   2245.3 |  61318.4 |\n",
      "| std        |    766.2 |  28601.2 |\n",
      "| min        |    591   |   7708   |\n",
      "| quantile25 |   1806   |  42288   |\n",
      "| median     |   2326   |  59862   |\n",
      "| quantile75 |   2799.2 |  85368.5 |\n",
      "| max        |   3480   | 106754   |\n",
      "+------------+----------+----------+\n"
     ]
    }
   ],
   "source": [
    "train_dataset.print_summary()"
   ]
  },
  {
   "cell_type": "code",
   "execution_count": 13,
   "id": "213163e1-51d1-4c86-b4b9-30b2e6011705",
   "metadata": {
    "tags": []
   },
   "outputs": [
    {
     "data": {
      "text/plain": [
       "50"
      ]
     },
     "execution_count": 13,
     "metadata": {},
     "output_type": "execute_result"
    }
   ],
   "source": [
    "train_dataset.num_node_features"
   ]
  },
  {
   "cell_type": "code",
   "execution_count": 14,
   "id": "c5bb3073-2004-4a68-a171-bd9bb65dd0e9",
   "metadata": {
    "tags": []
   },
   "outputs": [
    {
     "name": "stderr",
     "output_type": "stream",
     "text": [
      "/home/ec2-user/anaconda3/envs/pytorch_p310/lib/python3.10/site-packages/torch_geometric/data/in_memory_dataset.py:284: UserWarning: It is not recommended to directly access the internal storage format `data` of an 'InMemoryDataset'. The data of the dataset is already cached, so any modifications to `data` will not be reflected when accessing its elements. Clearing the cache now by removing all elements in `dataset._data_list`. If you are absolutely certain what you are doing, access the internal storage via `InMemoryDataset._data` instead to suppress this warning. Alternatively, you can access stacked individual attributes of every graph via `dataset.{attr_name}`.\n",
      "  warnings.warn(msg)\n"
     ]
    },
    {
     "data": {
      "text/plain": [
       "torch.Size([44906, 50])"
      ]
     },
     "execution_count": 14,
     "metadata": {},
     "output_type": "execute_result"
    }
   ],
   "source": [
    "train_dataset.data.x.shape"
   ]
  },
  {
   "cell_type": "code",
   "execution_count": 15,
   "id": "d6ca90db-47d0-412b-9c18-821033af37e7",
   "metadata": {
    "tags": []
   },
   "outputs": [
    {
     "name": "stderr",
     "output_type": "stream",
     "text": [
      "/home/ec2-user/anaconda3/envs/pytorch_p310/lib/python3.10/site-packages/torch_geometric/data/in_memory_dataset.py:284: UserWarning: It is not recommended to directly access the internal storage format `data` of an 'InMemoryDataset'. If you are absolutely certain what you are doing, access the internal storage via `InMemoryDataset._data` instead to suppress this warning. Alternatively, you can access stacked individual attributes of every graph via `dataset.{attr_name}`.\n",
      "  warnings.warn(msg)\n"
     ]
    },
    {
     "data": {
      "text/plain": [
       "torch.Size([44906, 50])"
      ]
     },
     "execution_count": 15,
     "metadata": {},
     "output_type": "execute_result"
    }
   ],
   "source": [
    "train_dataset.data.x.shape"
   ]
  },
  {
   "cell_type": "code",
   "execution_count": 16,
   "id": "e56fc9e9-c3d2-44e4-bca2-c8f743c70fd9",
   "metadata": {
    "tags": []
   },
   "outputs": [
    {
     "data": {
      "text/plain": [
       "torch.Size([2, 1226368])"
      ]
     },
     "execution_count": 16,
     "metadata": {},
     "output_type": "execute_result"
    }
   ],
   "source": [
    "train_dataset.data.edge_index.shape"
   ]
  },
  {
   "cell_type": "code",
   "execution_count": 17,
   "id": "43a96a1c-94ba-44c7-a14c-f4781826bf0c",
   "metadata": {
    "tags": []
   },
   "outputs": [
    {
     "data": {
      "text/plain": [
       "torch.Size([44906, 121])"
      ]
     },
     "execution_count": 17,
     "metadata": {},
     "output_type": "execute_result"
    }
   ],
   "source": [
    "train_dataset.data.y.shape"
   ]
  },
  {
   "cell_type": "code",
   "execution_count": 18,
   "id": "7721670f-7bc6-4786-94dd-bda8ba41e3ab",
   "metadata": {
    "tags": []
   },
   "outputs": [],
   "source": [
    "class GATPPI(torch.nn.Module):\n",
    "    def __init__(self):\n",
    "        super().__init__()\n",
    "        self.conv1 = GATConv(train_dataset.num_features, 256, heads=4)\n",
    "        self.lin1 = torch.nn.Linear(train_dataset.num_features, 4 * 256)\n",
    "        self.conv2 = GATConv(4 * 256, 256, heads=4)\n",
    "        self.lin2 = torch.nn.Linear(4 * 256, 4 * 256)\n",
    "        self.conv3 = GATConv(4 * 256, train_dataset.num_classes, heads=6,\n",
    "                             concat=False)\n",
    "        self.lin3 = torch.nn.Linear(4 * 256, train_dataset.num_classes)\n",
    "\n",
    "    def forward(self, x, edge_index):\n",
    "        x = F.elu(self.conv1(x, edge_index) + self.lin1(x))\n",
    "        x = F.elu(self.conv2(x, edge_index) + self.lin2(x))\n",
    "        x = self.conv3(x, edge_index) + self.lin3(x)\n",
    "        return x"
   ]
  },
  {
   "cell_type": "code",
   "execution_count": 19,
   "id": "fa3cfd3c-806d-4fe7-8373-8a942979d63f",
   "metadata": {
    "tags": []
   },
   "outputs": [],
   "source": [
    "device = torch.device('cuda' if torch.cuda.is_available() else 'cpu')\n",
    "model = GATPPI().to(device)\n",
    "loss_op = torch.nn.BCEWithLogitsLoss()\n",
    "optimizer = torch.optim.Adam(model.parameters(), lr=0.005)"
   ]
  },
  {
   "cell_type": "code",
   "execution_count": 20,
   "id": "ba2d94eb-881e-4961-9b8b-51ebaa1e5ba3",
   "metadata": {
    "tags": []
   },
   "outputs": [],
   "source": [
    "def train():\n",
    "    model.train()\n",
    "\n",
    "    total_loss = 0\n",
    "    for data in train_loader:\n",
    "        data = data.to(device)\n",
    "        optimizer.zero_grad()\n",
    "        loss = loss_op(model(data.x, data.edge_index), data.y)\n",
    "        total_loss += loss.item() * data.num_graphs\n",
    "        loss.backward()\n",
    "        optimizer.step()\n",
    "    return total_loss / len(train_loader.dataset)"
   ]
  },
  {
   "cell_type": "code",
   "execution_count": 21,
   "id": "5c9d7cfe-8fd5-49be-bc35-d31de3939934",
   "metadata": {
    "tags": []
   },
   "outputs": [],
   "source": [
    "@torch.no_grad()\n",
    "def test(loader):\n",
    "    model.eval()\n",
    "\n",
    "    ys, preds = [], []\n",
    "    for data in loader:\n",
    "        ys.append(data.y)\n",
    "        out = model(data.x.to(device), data.edge_index.to(device))\n",
    "        preds.append((out > 0).float().cpu())\n",
    "\n",
    "    y, pred = torch.cat(ys, dim=0).numpy(), torch.cat(preds, dim=0).numpy()\n",
    "    return f1_score(y, pred, average='micro') if pred.sum() > 0 else 0"
   ]
  },
  {
   "cell_type": "code",
   "execution_count": 22,
   "id": "8a50233a-7819-4b27-bd71-9894b43ca5ba",
   "metadata": {
    "tags": []
   },
   "outputs": [
    {
     "data": {
      "text/plain": [
       "0.36469439712103513"
      ]
     },
     "execution_count": 22,
     "metadata": {},
     "output_type": "execute_result"
    }
   ],
   "source": [
    "test(test_loader)"
   ]
  },
  {
   "cell_type": "code",
   "execution_count": 23,
   "id": "6f2f7cf0-b8ed-49ff-a139-51d0d89a3cc0",
   "metadata": {
    "tags": []
   },
   "outputs": [],
   "source": [
    "def calculate_val_loss():\n",
    "    model.eval()\n",
    "    total_val_loss = 0\n",
    "    for data in val_loader:\n",
    "        data = data.to(device)\n",
    "        val_loss = loss_op(model(data.x, data.edge_index), data.y)\n",
    "        total_val_loss += val_loss.item() * data.num_graphs\n",
    "    return total_val_loss / len(val_loader.dataset)"
   ]
  },
  {
   "cell_type": "code",
   "execution_count": 24,
   "id": "885d2a00-be2f-49d2-be8f-284896e33c7b",
   "metadata": {
    "tags": []
   },
   "outputs": [],
   "source": [
    "import time"
   ]
  },
  {
   "cell_type": "code",
   "execution_count": 25,
   "id": "7da17da9-802f-4df8-b21a-12d95f97894d",
   "metadata": {
    "tags": []
   },
   "outputs": [],
   "source": [
    "times = []"
   ]
  },
  {
   "cell_type": "code",
   "execution_count": 26,
   "id": "2b667cd1-9251-474d-a3a3-81afd0bc8d12",
   "metadata": {
    "tags": []
   },
   "outputs": [
    {
     "name": "stdout",
     "output_type": "stream",
     "text": [
      "Epoch: 001, Loss: 0.8840, Val Loss: 0.5602, Val F1: 0.4854\n",
      "Epoch: 002, Loss: 0.5341, Val Loss: 0.5031, Val F1: 0.5523\n",
      "Epoch: 003, Loss: 0.4864, Val Loss: 0.4630, Val F1: 0.5588\n",
      "Epoch: 004, Loss: 0.4459, Val Loss: 0.4382, Val F1: 0.6169\n",
      "Epoch: 005, Loss: 0.4148, Val Loss: 0.4079, Val F1: 0.6671\n",
      "Epoch: 006, Loss: 0.3708, Val Loss: 0.3768, Val F1: 0.7109\n",
      "Epoch: 007, Loss: 0.3298, Val Loss: 0.3417, Val F1: 0.7489\n",
      "Epoch: 008, Loss: 0.2896, Val Loss: 0.3051, Val F1: 0.7773\n",
      "Epoch: 009, Loss: 0.2453, Val Loss: 0.2741, Val F1: 0.8073\n",
      "Epoch: 010, Loss: 0.2187, Val Loss: 0.2527, Val F1: 0.8234\n",
      "Epoch: 011, Loss: 0.1912, Val Loss: 0.2136, Val F1: 0.8569\n",
      "Epoch: 012, Loss: 0.1591, Val Loss: 0.1952, Val F1: 0.8721\n",
      "Epoch: 013, Loss: 0.1355, Val Loss: 0.1708, Val F1: 0.8952\n",
      "Epoch: 014, Loss: 0.1200, Val Loss: 0.1623, Val F1: 0.9005\n",
      "Epoch: 015, Loss: 0.1043, Val Loss: 0.1447, Val F1: 0.9160\n",
      "Epoch: 016, Loss: 0.0847, Val Loss: 0.1342, Val F1: 0.9225\n",
      "Epoch: 017, Loss: 0.0780, Val Loss: 0.1292, Val F1: 0.9261\n",
      "Epoch: 018, Loss: 0.0775, Val Loss: 0.1251, Val F1: 0.9303\n",
      "Epoch: 019, Loss: 0.0727, Val Loss: 0.1172, Val F1: 0.9341\n",
      "Epoch: 020, Loss: 0.0594, Val Loss: 0.1059, Val F1: 0.9431\n",
      "Epoch: 021, Loss: 0.0499, Val Loss: 0.0991, Val F1: 0.9485\n",
      "Epoch: 022, Loss: 0.0455, Val Loss: 0.1076, Val F1: 0.9449\n",
      "Epoch: 023, Loss: 0.0444, Val Loss: 0.0953, Val F1: 0.9514\n",
      "Epoch: 024, Loss: 0.0366, Val Loss: 0.0869, Val F1: 0.9570\n",
      "Epoch: 025, Loss: 0.0323, Val Loss: 0.0842, Val F1: 0.9589\n",
      "Epoch: 026, Loss: 0.0316, Val Loss: 0.0811, Val F1: 0.9615\n",
      "Epoch: 027, Loss: 0.0284, Val Loss: 0.0799, Val F1: 0.9617\n",
      "Epoch: 028, Loss: 0.0262, Val Loss: 0.0776, Val F1: 0.9642\n",
      "Epoch: 029, Loss: 0.0252, Val Loss: 0.0769, Val F1: 0.9644\n",
      "Epoch: 030, Loss: 0.0260, Val Loss: 0.0807, Val F1: 0.9625\n",
      "Epoch: 031, Loss: 0.0249, Val Loss: 0.0808, Val F1: 0.9631\n",
      "Epoch: 032, Loss: 0.0230, Val Loss: 0.0772, Val F1: 0.9656\n",
      "Epoch: 033, Loss: 0.0249, Val Loss: 0.0758, Val F1: 0.9669\n",
      "Epoch: 034, Loss: 0.0228, Val Loss: 0.0804, Val F1: 0.9645\n",
      "Epoch: 035, Loss: 0.0191, Val Loss: 0.0770, Val F1: 0.9668\n",
      "Epoch: 036, Loss: 0.0220, Val Loss: 0.0763, Val F1: 0.9680\n",
      "Epoch: 037, Loss: 0.0185, Val Loss: 0.0744, Val F1: 0.9691\n",
      "Epoch: 038, Loss: 0.0197, Val Loss: 0.0727, Val F1: 0.9700\n",
      "Epoch: 039, Loss: 0.0184, Val Loss: 0.0749, Val F1: 0.9690\n",
      "Epoch: 040, Loss: 0.0176, Val Loss: 0.0745, Val F1: 0.9704\n",
      "Epoch: 041, Loss: 0.0143, Val Loss: 0.0738, Val F1: 0.9707\n",
      "Epoch: 042, Loss: 0.0137, Val Loss: 0.0738, Val F1: 0.9705\n",
      "Epoch: 043, Loss: 0.0135, Val Loss: 0.0720, Val F1: 0.9723\n",
      "Epoch: 044, Loss: 0.0125, Val Loss: 0.0720, Val F1: 0.9736\n",
      "Epoch: 045, Loss: 0.0108, Val Loss: 0.0714, Val F1: 0.9736\n",
      "Epoch: 046, Loss: 0.0122, Val Loss: 0.0726, Val F1: 0.9730\n",
      "Epoch: 047, Loss: 0.0115, Val Loss: 0.0718, Val F1: 0.9733\n",
      "Epoch: 048, Loss: 0.0114, Val Loss: 0.0715, Val F1: 0.9738\n",
      "Epoch: 049, Loss: 0.0107, Val Loss: 0.0708, Val F1: 0.9752\n",
      "Epoch: 050, Loss: 0.0098, Val Loss: 0.0705, Val F1: 0.9749\n",
      "Epoch: 051, Loss: 0.0102, Val Loss: 0.0724, Val F1: 0.9746\n",
      "Epoch: 052, Loss: 0.0102, Val Loss: 0.0783, Val F1: 0.9717\n",
      "Epoch: 053, Loss: 0.0108, Val Loss: 0.0732, Val F1: 0.9740\n",
      "Epoch: 054, Loss: 0.0098, Val Loss: 0.0711, Val F1: 0.9757\n",
      "Epoch: 055, Loss: 0.0090, Val Loss: 0.0755, Val F1: 0.9740\n",
      "Epoch: 056, Loss: 0.0094, Val Loss: 0.0756, Val F1: 0.9739\n",
      "Epoch: 057, Loss: 0.0098, Val Loss: 0.0740, Val F1: 0.9750\n",
      "Epoch: 058, Loss: 0.0092, Val Loss: 0.0744, Val F1: 0.9748\n",
      "Epoch: 059, Loss: 0.0091, Val Loss: 0.0733, Val F1: 0.9760\n",
      "Epoch: 060, Loss: 0.0081, Val Loss: 0.0731, Val F1: 0.9756\n",
      "Epoch: 061, Loss: 0.0088, Val Loss: 0.0739, Val F1: 0.9763\n",
      "Epoch: 062, Loss: 0.0090, Val Loss: 0.0753, Val F1: 0.9752\n",
      "Epoch: 063, Loss: 0.0095, Val Loss: 0.0762, Val F1: 0.9753\n",
      "Epoch: 064, Loss: 0.0100, Val Loss: 0.0741, Val F1: 0.9757\n",
      "Epoch: 065, Loss: 0.0081, Val Loss: 0.0738, Val F1: 0.9762\n",
      "Epoch: 066, Loss: 0.0077, Val Loss: 0.0762, Val F1: 0.9750\n",
      "Epoch: 067, Loss: 0.0109, Val Loss: 0.0795, Val F1: 0.9741\n",
      "Epoch: 068, Loss: 0.0188, Val Loss: 0.0893, Val F1: 0.9671\n",
      "Epoch: 069, Loss: 0.0352, Val Loss: 0.1116, Val F1: 0.9554\n",
      "Epoch: 070, Loss: 0.1066, Val Loss: 0.1937, Val F1: 0.9104\n",
      "Epoch: 071, Loss: 0.0936, Val Loss: 0.1614, Val F1: 0.9293\n",
      "Epoch: 072, Loss: 0.0644, Val Loss: 0.1184, Val F1: 0.9509\n",
      "Epoch: 073, Loss: 0.0419, Val Loss: 0.1148, Val F1: 0.9536\n",
      "Epoch: 074, Loss: 0.0313, Val Loss: 0.0915, Val F1: 0.9655\n",
      "Epoch: 075, Loss: 0.0255, Val Loss: 0.0875, Val F1: 0.9692\n",
      "Epoch: 076, Loss: 0.0149, Val Loss: 0.0795, Val F1: 0.9726\n",
      "Epoch: 077, Loss: 0.0118, Val Loss: 0.0732, Val F1: 0.9760\n",
      "Epoch: 078, Loss: 0.0109, Val Loss: 0.0740, Val F1: 0.9768\n",
      "Epoch: 079, Loss: 0.0088, Val Loss: 0.0726, Val F1: 0.9776\n",
      "Epoch: 080, Loss: 0.0071, Val Loss: 0.0705, Val F1: 0.9784\n",
      "Epoch: 081, Loss: 0.0073, Val Loss: 0.0715, Val F1: 0.9786\n",
      "Epoch: 082, Loss: 0.0073, Val Loss: 0.0713, Val F1: 0.9792\n",
      "Epoch: 083, Loss: 0.0071, Val Loss: 0.0704, Val F1: 0.9793\n",
      "Epoch: 084, Loss: 0.0060, Val Loss: 0.0702, Val F1: 0.9798\n",
      "Epoch: 085, Loss: 0.0060, Val Loss: 0.0721, Val F1: 0.9788\n",
      "Epoch: 086, Loss: 0.0067, Val Loss: 0.0730, Val F1: 0.9787\n",
      "Epoch: 087, Loss: 0.0076, Val Loss: 0.0733, Val F1: 0.9788\n",
      "Epoch: 088, Loss: 0.0061, Val Loss: 0.0717, Val F1: 0.9795\n",
      "Epoch: 089, Loss: 0.0058, Val Loss: 0.0724, Val F1: 0.9795\n",
      "Epoch: 090, Loss: 0.0065, Val Loss: 0.0730, Val F1: 0.9785\n",
      "Epoch: 091, Loss: 0.0063, Val Loss: 0.0733, Val F1: 0.9794\n",
      "Epoch: 092, Loss: 0.0060, Val Loss: 0.0707, Val F1: 0.9798\n",
      "Epoch: 093, Loss: 0.0060, Val Loss: 0.0717, Val F1: 0.9800\n",
      "Epoch: 094, Loss: 0.0056, Val Loss: 0.0726, Val F1: 0.9797\n",
      "Epoch: 095, Loss: 0.0057, Val Loss: 0.0726, Val F1: 0.9801\n",
      "Epoch: 096, Loss: 0.0053, Val Loss: 0.0728, Val F1: 0.9796\n",
      "Epoch: 097, Loss: 0.0053, Val Loss: 0.0710, Val F1: 0.9804\n",
      "Epoch: 098, Loss: 0.0054, Val Loss: 0.0740, Val F1: 0.9800\n",
      "Epoch: 099, Loss: 0.0058, Val Loss: 0.0717, Val F1: 0.9803\n",
      "Epoch: 100, Loss: 0.0052, Val Loss: 0.0721, Val F1: 0.9801\n"
     ]
    }
   ],
   "source": [
    "# Placeholder for training and validation losses\n",
    "train_losses = []\n",
    "val_losses = []\n",
    "\n",
    "# Main training and evaluation loop\n",
    "for epoch in range(1, 101):\n",
    "    start = time.time()\n",
    "    \n",
    "    train_loss = train()\n",
    "    train_losses.append(train_loss)\n",
    "    \n",
    "    val_loss = calculate_val_loss()\n",
    "    val_losses.append(val_loss)\n",
    "    \n",
    "    val_f1 = test(val_loader)\n",
    "    test_f1 = test(test_loader)\n",
    "    \n",
    "    end = time.time()\n",
    "    print(f'Epoch: {epoch:03d}, Loss: {train_loss:.4f}, Val Loss: {val_loss:.4f}, Val F1: {val_f1:.4f}')\n",
    "    times.append(end - start)\n",
    "\n",
    "\n"
   ]
  },
  {
   "cell_type": "code",
   "execution_count": 27,
   "id": "57ef0196-ede4-46e3-8b35-9dd4a6963f73",
   "metadata": {
    "tags": []
   },
   "outputs": [],
   "source": [
    "import matplotlib.pyplot as plt"
   ]
  },
  {
   "cell_type": "code",
   "execution_count": 29,
   "id": "2f80ceac-ceb9-4303-b632-fa284fe1e329",
   "metadata": {
    "tags": []
   },
   "outputs": [
    {
     "data": {
      "image/png": "[encoded data removed]",
      "text/plain": [
       "<Figure size 1000x500 with 1 Axes>"
      ]
     },
     "metadata": {},
     "output_type": "display_data"
    }
   ],
   "source": [
    "# Plotting the training and validation loss\n",
    "plt.figure(figsize=(10, 5))\n",
    "plt.plot(train_losses, label='Training Loss')\n",
    "plt.plot(val_losses, label='Validation Loss')\n",
    "plt.xlabel('Epoch')\n",
    "plt.ylabel('Loss')\n",
    "plt.title('Training and Validation Loss Over Epochs')\n",
    "plt.legend()\n",
    "plt.show()"
   ]
  },
  {
   "cell_type": "code",
   "execution_count": 30,
   "id": "5359c311-88a3-4e67-a490-b3bf21a3e4d5",
   "metadata": {
    "tags": []
   },
   "outputs": [
    {
     "data": {
      "text/plain": [
       "0.9876962537697757"
      ]
     },
     "execution_count": 30,
     "metadata": {},
     "output_type": "execute_result"
    }
   ],
   "source": [
    "test(test_loader)"
   ]
  },
  {
   "cell_type": "code",
   "execution_count": 31,
   "id": "2dd059b9-6d48-48e9-af48-8c799bba0d88",
   "metadata": {
    "tags": []
   },
   "outputs": [
    {
     "name": "stdout",
     "output_type": "stream",
     "text": [
      "Sat Dec  9 04:29:15 2023       \n",
      "+---------------------------------------------------------------------------------------+\n",
      "| NVIDIA-SMI 535.104.12             Driver Version: 535.104.12   CUDA Version: 12.2     |\n",
      "|-----------------------------------------+----------------------+----------------------+\n",
      "| GPU  Name                 Persistence-M | Bus-Id        Disp.A | Volatile Uncorr. ECC |\n",
      "| Fan  Temp   Perf          Pwr:Usage/Cap |         Memory-Usage | GPU-Util  Compute M. |\n",
      "|                                         |                      |               MIG M. |\n",
      "|=========================================+======================+======================|\n",
      "|   0  NVIDIA A10G                    On  | 00000000:00:1E.0 Off |                    0 |\n",
      "|  0%   20C    P0              56W / 300W |   8060MiB / 23028MiB |      0%      Default |\n",
      "|                                         |                      |                  N/A |\n",
      "+-----------------------------------------+----------------------+----------------------+\n",
      "                                                                                         \n",
      "+---------------------------------------------------------------------------------------+\n",
      "| Processes:                                                                            |\n",
      "|  GPU   GI   CI        PID   Type   Process name                            GPU Memory |\n",
      "|        ID   ID                                                             Usage      |\n",
      "|=======================================================================================|\n",
      "|    0   N/A  N/A     31594      C   ...conda3/envs/pytorch_p310/bin/python     8052MiB |\n",
      "+---------------------------------------------------------------------------------------+\n"
     ]
    }
   ],
   "source": [
    "!nvidia-smi"
   ]
  },
  {
   "cell_type": "code",
   "execution_count": null,
   "id": "3eb94bf3-bc6d-4d12-8324-351d27937ece",
   "metadata": {},
   "outputs": [],
   "source": []
  }
 ],
 "metadata": {
  "kernelspec": {
   "display_name": "conda_pytorch_p310",
   "language": "python",
   "name": "conda_pytorch_p310"
  },
  "language_info": {
   "codemirror_mode": {
    "name": "ipython",
    "version": 3
   },
   "file_extension": ".py",
   "mimetype": "text/x-python",
   "name": "python",
   "nbconvert_exporter": "python",
   "pygments_lexer": "ipython3",
   "version": "3.10.13"
  }
 },
 "nbformat": 4,
 "nbformat_minor": 5
}
